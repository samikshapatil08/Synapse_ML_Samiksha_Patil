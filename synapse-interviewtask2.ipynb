{
 "cells": [
  {
   "cell_type": "markdown",
   "id": "5fc0c2f4",
   "metadata": {
    "papermill": {
     "duration": 0.00697,
     "end_time": "2025-09-01T19:29:48.183413",
     "exception": false,
     "start_time": "2025-09-01T19:29:48.176443",
     "status": "completed"
    },
    "tags": []
   },
   "source": [
    "Welcome to your next checkpoint on the Synapse road!\n",
    "Today we’re diving into the Video Game Sales dataset to practice real-world data preprocessing + EDA. Think of this like prepping ingredients before cooking — we’ll clean, slice, and plate the data so insights pop 🍽️"
   ]
  },
  {
   "cell_type": "markdown",
   "id": "1e8763c5",
   "metadata": {
    "papermill": {
     "duration": 0.005787,
     "end_time": "2025-09-01T19:29:48.195554",
     "exception": false,
     "start_time": "2025-09-01T19:29:48.189767",
     "status": "completed"
    },
    "tags": []
   },
   "source": [
    "We’ll be using pandas, numpy, matplotlib, and seaborn for this task.\n",
    "Run the following cell to import them"
   ]
  },
  {
   "cell_type": "code",
   "execution_count": 1,
   "id": "f2aba5b8",
   "metadata": {
    "execution": {
     "iopub.execute_input": "2025-09-01T19:29:48.209099Z",
     "iopub.status.busy": "2025-09-01T19:29:48.208766Z",
     "iopub.status.idle": "2025-09-01T19:29:52.284486Z",
     "shell.execute_reply": "2025-09-01T19:29:52.283547Z"
    },
    "papermill": {
     "duration": 4.08466,
     "end_time": "2025-09-01T19:29:52.286325",
     "exception": false,
     "start_time": "2025-09-01T19:29:48.201665",
     "status": "completed"
    },
    "tags": []
   },
   "outputs": [],
   "source": [
    "import pandas as pd\n",
    "import numpy as np\n",
    "import matplotlib.pyplot as plt\n",
    "import seaborn as sns"
   ]
  },
  {
   "cell_type": "markdown",
   "id": "1b5bae67",
   "metadata": {
    "papermill": {
     "duration": 0.007128,
     "end_time": "2025-09-01T19:29:52.299917",
     "exception": false,
     "start_time": "2025-09-01T19:29:52.292789",
     "status": "completed"
    },
    "tags": []
   },
   "source": [
    "Alright, now that we’ve got our tools ready, let’s bring in the star of the show — the **Video Game Sales dataset** 🎮  \n",
    "\n",
    "Your task:  \n",
    "- Load the dataset into a pandas DataFrame.  \n",
    "- Take a quick peek at the first few rows using.  \n",
    "- Check the shape of the dataset to see how big this universe is.  \n",
    "\n",
    "Think of this step as unboxing a new console — gotta see what’s inside first!  \n"
   ]
  },
  {
   "cell_type": "code",
   "execution_count": 2,
   "id": "dc2aa3d3",
   "metadata": {
    "execution": {
     "iopub.execute_input": "2025-09-01T19:29:52.314679Z",
     "iopub.status.busy": "2025-09-01T19:29:52.314200Z",
     "iopub.status.idle": "2025-09-01T19:29:52.433506Z",
     "shell.execute_reply": "2025-09-01T19:29:52.432519Z"
    },
    "papermill": {
     "duration": 0.128245,
     "end_time": "2025-09-01T19:29:52.435126",
     "exception": false,
     "start_time": "2025-09-01T19:29:52.306881",
     "status": "completed"
    },
    "tags": []
   },
   "outputs": [
    {
     "data": {
      "text/html": [
       "<div>\n",
       "<style scoped>\n",
       "    .dataframe tbody tr th:only-of-type {\n",
       "        vertical-align: middle;\n",
       "    }\n",
       "\n",
       "    .dataframe tbody tr th {\n",
       "        vertical-align: top;\n",
       "    }\n",
       "\n",
       "    .dataframe thead th {\n",
       "        text-align: right;\n",
       "    }\n",
       "</style>\n",
       "<table border=\"1\" class=\"dataframe\">\n",
       "  <thead>\n",
       "    <tr style=\"text-align: right;\">\n",
       "      <th></th>\n",
       "      <th>Rank</th>\n",
       "      <th>Name</th>\n",
       "      <th>Platform</th>\n",
       "      <th>Year</th>\n",
       "      <th>Genre</th>\n",
       "      <th>Publisher</th>\n",
       "      <th>NA_Sales</th>\n",
       "      <th>EU_Sales</th>\n",
       "      <th>JP_Sales</th>\n",
       "      <th>Other_Sales</th>\n",
       "      <th>Global_Sales</th>\n",
       "    </tr>\n",
       "  </thead>\n",
       "  <tbody>\n",
       "    <tr>\n",
       "      <th>0</th>\n",
       "      <td>1</td>\n",
       "      <td>Wii Sports</td>\n",
       "      <td>Wii</td>\n",
       "      <td>2006.0</td>\n",
       "      <td>Sports</td>\n",
       "      <td>Nintendo</td>\n",
       "      <td>41.49</td>\n",
       "      <td>29.02</td>\n",
       "      <td>3.77</td>\n",
       "      <td>8.46</td>\n",
       "      <td>82.74</td>\n",
       "    </tr>\n",
       "    <tr>\n",
       "      <th>1</th>\n",
       "      <td>2</td>\n",
       "      <td>Super Mario Bros.</td>\n",
       "      <td>NES</td>\n",
       "      <td>1985.0</td>\n",
       "      <td>Platform</td>\n",
       "      <td>Nintendo</td>\n",
       "      <td>29.08</td>\n",
       "      <td>3.58</td>\n",
       "      <td>6.81</td>\n",
       "      <td>0.77</td>\n",
       "      <td>40.24</td>\n",
       "    </tr>\n",
       "    <tr>\n",
       "      <th>2</th>\n",
       "      <td>3</td>\n",
       "      <td>Mario Kart Wii</td>\n",
       "      <td>Wii</td>\n",
       "      <td>2008.0</td>\n",
       "      <td>Racing</td>\n",
       "      <td>Nintendo</td>\n",
       "      <td>15.85</td>\n",
       "      <td>12.88</td>\n",
       "      <td>3.79</td>\n",
       "      <td>3.31</td>\n",
       "      <td>35.82</td>\n",
       "    </tr>\n",
       "    <tr>\n",
       "      <th>3</th>\n",
       "      <td>4</td>\n",
       "      <td>Wii Sports Resort</td>\n",
       "      <td>Wii</td>\n",
       "      <td>2009.0</td>\n",
       "      <td>Sports</td>\n",
       "      <td>Nintendo</td>\n",
       "      <td>15.75</td>\n",
       "      <td>11.01</td>\n",
       "      <td>3.28</td>\n",
       "      <td>2.96</td>\n",
       "      <td>33.00</td>\n",
       "    </tr>\n",
       "    <tr>\n",
       "      <th>4</th>\n",
       "      <td>5</td>\n",
       "      <td>Pokemon Red/Pokemon Blue</td>\n",
       "      <td>GB</td>\n",
       "      <td>1996.0</td>\n",
       "      <td>Role-Playing</td>\n",
       "      <td>Nintendo</td>\n",
       "      <td>11.27</td>\n",
       "      <td>8.89</td>\n",
       "      <td>10.22</td>\n",
       "      <td>1.00</td>\n",
       "      <td>31.37</td>\n",
       "    </tr>\n",
       "    <tr>\n",
       "      <th>...</th>\n",
       "      <td>...</td>\n",
       "      <td>...</td>\n",
       "      <td>...</td>\n",
       "      <td>...</td>\n",
       "      <td>...</td>\n",
       "      <td>...</td>\n",
       "      <td>...</td>\n",
       "      <td>...</td>\n",
       "      <td>...</td>\n",
       "      <td>...</td>\n",
       "      <td>...</td>\n",
       "    </tr>\n",
       "    <tr>\n",
       "      <th>16593</th>\n",
       "      <td>16596</td>\n",
       "      <td>Woody Woodpecker in Crazy Castle 5</td>\n",
       "      <td>GBA</td>\n",
       "      <td>2002.0</td>\n",
       "      <td>Platform</td>\n",
       "      <td>Kemco</td>\n",
       "      <td>0.01</td>\n",
       "      <td>0.00</td>\n",
       "      <td>0.00</td>\n",
       "      <td>0.00</td>\n",
       "      <td>0.01</td>\n",
       "    </tr>\n",
       "    <tr>\n",
       "      <th>16594</th>\n",
       "      <td>16597</td>\n",
       "      <td>Men in Black II: Alien Escape</td>\n",
       "      <td>GC</td>\n",
       "      <td>2003.0</td>\n",
       "      <td>Shooter</td>\n",
       "      <td>Infogrames</td>\n",
       "      <td>0.01</td>\n",
       "      <td>0.00</td>\n",
       "      <td>0.00</td>\n",
       "      <td>0.00</td>\n",
       "      <td>0.01</td>\n",
       "    </tr>\n",
       "    <tr>\n",
       "      <th>16595</th>\n",
       "      <td>16598</td>\n",
       "      <td>SCORE International Baja 1000: The Official Game</td>\n",
       "      <td>PS2</td>\n",
       "      <td>2008.0</td>\n",
       "      <td>Racing</td>\n",
       "      <td>Activision</td>\n",
       "      <td>0.00</td>\n",
       "      <td>0.00</td>\n",
       "      <td>0.00</td>\n",
       "      <td>0.00</td>\n",
       "      <td>0.01</td>\n",
       "    </tr>\n",
       "    <tr>\n",
       "      <th>16596</th>\n",
       "      <td>16599</td>\n",
       "      <td>Know How 2</td>\n",
       "      <td>DS</td>\n",
       "      <td>2010.0</td>\n",
       "      <td>Puzzle</td>\n",
       "      <td>7G//AMES</td>\n",
       "      <td>0.00</td>\n",
       "      <td>0.01</td>\n",
       "      <td>0.00</td>\n",
       "      <td>0.00</td>\n",
       "      <td>0.01</td>\n",
       "    </tr>\n",
       "    <tr>\n",
       "      <th>16597</th>\n",
       "      <td>16600</td>\n",
       "      <td>Spirits &amp; Spells</td>\n",
       "      <td>GBA</td>\n",
       "      <td>2003.0</td>\n",
       "      <td>Platform</td>\n",
       "      <td>Wanadoo</td>\n",
       "      <td>0.01</td>\n",
       "      <td>0.00</td>\n",
       "      <td>0.00</td>\n",
       "      <td>0.00</td>\n",
       "      <td>0.01</td>\n",
       "    </tr>\n",
       "  </tbody>\n",
       "</table>\n",
       "<p>16598 rows × 11 columns</p>\n",
       "</div>"
      ],
      "text/plain": [
       "        Rank                                              Name Platform  \\\n",
       "0          1                                        Wii Sports      Wii   \n",
       "1          2                                 Super Mario Bros.      NES   \n",
       "2          3                                    Mario Kart Wii      Wii   \n",
       "3          4                                 Wii Sports Resort      Wii   \n",
       "4          5                          Pokemon Red/Pokemon Blue       GB   \n",
       "...      ...                                               ...      ...   \n",
       "16593  16596                Woody Woodpecker in Crazy Castle 5      GBA   \n",
       "16594  16597                     Men in Black II: Alien Escape       GC   \n",
       "16595  16598  SCORE International Baja 1000: The Official Game      PS2   \n",
       "16596  16599                                        Know How 2       DS   \n",
       "16597  16600                                  Spirits & Spells      GBA   \n",
       "\n",
       "         Year         Genre   Publisher  NA_Sales  EU_Sales  JP_Sales  \\\n",
       "0      2006.0        Sports    Nintendo     41.49     29.02      3.77   \n",
       "1      1985.0      Platform    Nintendo     29.08      3.58      6.81   \n",
       "2      2008.0        Racing    Nintendo     15.85     12.88      3.79   \n",
       "3      2009.0        Sports    Nintendo     15.75     11.01      3.28   \n",
       "4      1996.0  Role-Playing    Nintendo     11.27      8.89     10.22   \n",
       "...       ...           ...         ...       ...       ...       ...   \n",
       "16593  2002.0      Platform       Kemco      0.01      0.00      0.00   \n",
       "16594  2003.0       Shooter  Infogrames      0.01      0.00      0.00   \n",
       "16595  2008.0        Racing  Activision      0.00      0.00      0.00   \n",
       "16596  2010.0        Puzzle    7G//AMES      0.00      0.01      0.00   \n",
       "16597  2003.0      Platform     Wanadoo      0.01      0.00      0.00   \n",
       "\n",
       "       Other_Sales  Global_Sales  \n",
       "0             8.46         82.74  \n",
       "1             0.77         40.24  \n",
       "2             3.31         35.82  \n",
       "3             2.96         33.00  \n",
       "4             1.00         31.37  \n",
       "...            ...           ...  \n",
       "16593         0.00          0.01  \n",
       "16594         0.00          0.01  \n",
       "16595         0.00          0.01  \n",
       "16596         0.00          0.01  \n",
       "16597         0.00          0.01  \n",
       "\n",
       "[16598 rows x 11 columns]"
      ]
     },
     "execution_count": 2,
     "metadata": {},
     "output_type": "execute_result"
    }
   ],
   "source": [
    "dataset=pd.read_csv('/kaggle/input/videogamesales/vgsales.csv')\n",
    "dataset"
   ]
  },
  {
   "cell_type": "code",
   "execution_count": 3,
   "id": "f0e927fc",
   "metadata": {
    "execution": {
     "iopub.execute_input": "2025-09-01T19:29:52.449801Z",
     "iopub.status.busy": "2025-09-01T19:29:52.449447Z",
     "iopub.status.idle": "2025-09-01T19:29:52.463485Z",
     "shell.execute_reply": "2025-09-01T19:29:52.462736Z"
    },
    "papermill": {
     "duration": 0.022927,
     "end_time": "2025-09-01T19:29:52.464969",
     "exception": false,
     "start_time": "2025-09-01T19:29:52.442042",
     "status": "completed"
    },
    "tags": []
   },
   "outputs": [
    {
     "data": {
      "text/html": [
       "<div>\n",
       "<style scoped>\n",
       "    .dataframe tbody tr th:only-of-type {\n",
       "        vertical-align: middle;\n",
       "    }\n",
       "\n",
       "    .dataframe tbody tr th {\n",
       "        vertical-align: top;\n",
       "    }\n",
       "\n",
       "    .dataframe thead th {\n",
       "        text-align: right;\n",
       "    }\n",
       "</style>\n",
       "<table border=\"1\" class=\"dataframe\">\n",
       "  <thead>\n",
       "    <tr style=\"text-align: right;\">\n",
       "      <th></th>\n",
       "      <th>Rank</th>\n",
       "      <th>Name</th>\n",
       "      <th>Platform</th>\n",
       "      <th>Year</th>\n",
       "      <th>Genre</th>\n",
       "      <th>Publisher</th>\n",
       "      <th>NA_Sales</th>\n",
       "      <th>EU_Sales</th>\n",
       "      <th>JP_Sales</th>\n",
       "      <th>Other_Sales</th>\n",
       "      <th>Global_Sales</th>\n",
       "    </tr>\n",
       "  </thead>\n",
       "  <tbody>\n",
       "    <tr>\n",
       "      <th>0</th>\n",
       "      <td>1</td>\n",
       "      <td>Wii Sports</td>\n",
       "      <td>Wii</td>\n",
       "      <td>2006.0</td>\n",
       "      <td>Sports</td>\n",
       "      <td>Nintendo</td>\n",
       "      <td>41.49</td>\n",
       "      <td>29.02</td>\n",
       "      <td>3.77</td>\n",
       "      <td>8.46</td>\n",
       "      <td>82.74</td>\n",
       "    </tr>\n",
       "    <tr>\n",
       "      <th>1</th>\n",
       "      <td>2</td>\n",
       "      <td>Super Mario Bros.</td>\n",
       "      <td>NES</td>\n",
       "      <td>1985.0</td>\n",
       "      <td>Platform</td>\n",
       "      <td>Nintendo</td>\n",
       "      <td>29.08</td>\n",
       "      <td>3.58</td>\n",
       "      <td>6.81</td>\n",
       "      <td>0.77</td>\n",
       "      <td>40.24</td>\n",
       "    </tr>\n",
       "    <tr>\n",
       "      <th>2</th>\n",
       "      <td>3</td>\n",
       "      <td>Mario Kart Wii</td>\n",
       "      <td>Wii</td>\n",
       "      <td>2008.0</td>\n",
       "      <td>Racing</td>\n",
       "      <td>Nintendo</td>\n",
       "      <td>15.85</td>\n",
       "      <td>12.88</td>\n",
       "      <td>3.79</td>\n",
       "      <td>3.31</td>\n",
       "      <td>35.82</td>\n",
       "    </tr>\n",
       "    <tr>\n",
       "      <th>3</th>\n",
       "      <td>4</td>\n",
       "      <td>Wii Sports Resort</td>\n",
       "      <td>Wii</td>\n",
       "      <td>2009.0</td>\n",
       "      <td>Sports</td>\n",
       "      <td>Nintendo</td>\n",
       "      <td>15.75</td>\n",
       "      <td>11.01</td>\n",
       "      <td>3.28</td>\n",
       "      <td>2.96</td>\n",
       "      <td>33.00</td>\n",
       "    </tr>\n",
       "    <tr>\n",
       "      <th>4</th>\n",
       "      <td>5</td>\n",
       "      <td>Pokemon Red/Pokemon Blue</td>\n",
       "      <td>GB</td>\n",
       "      <td>1996.0</td>\n",
       "      <td>Role-Playing</td>\n",
       "      <td>Nintendo</td>\n",
       "      <td>11.27</td>\n",
       "      <td>8.89</td>\n",
       "      <td>10.22</td>\n",
       "      <td>1.00</td>\n",
       "      <td>31.37</td>\n",
       "    </tr>\n",
       "  </tbody>\n",
       "</table>\n",
       "</div>"
      ],
      "text/plain": [
       "   Rank                      Name Platform    Year         Genre Publisher  \\\n",
       "0     1                Wii Sports      Wii  2006.0        Sports  Nintendo   \n",
       "1     2         Super Mario Bros.      NES  1985.0      Platform  Nintendo   \n",
       "2     3            Mario Kart Wii      Wii  2008.0        Racing  Nintendo   \n",
       "3     4         Wii Sports Resort      Wii  2009.0        Sports  Nintendo   \n",
       "4     5  Pokemon Red/Pokemon Blue       GB  1996.0  Role-Playing  Nintendo   \n",
       "\n",
       "   NA_Sales  EU_Sales  JP_Sales  Other_Sales  Global_Sales  \n",
       "0     41.49     29.02      3.77         8.46         82.74  \n",
       "1     29.08      3.58      6.81         0.77         40.24  \n",
       "2     15.85     12.88      3.79         3.31         35.82  \n",
       "3     15.75     11.01      3.28         2.96         33.00  \n",
       "4     11.27      8.89     10.22         1.00         31.37  "
      ]
     },
     "execution_count": 3,
     "metadata": {},
     "output_type": "execute_result"
    }
   ],
   "source": [
    "dataset.head(5)"
   ]
  },
  {
   "cell_type": "code",
   "execution_count": 4,
   "id": "4e6562a9",
   "metadata": {
    "execution": {
     "iopub.execute_input": "2025-09-01T19:29:52.479723Z",
     "iopub.status.busy": "2025-09-01T19:29:52.479351Z",
     "iopub.status.idle": "2025-09-01T19:29:52.485203Z",
     "shell.execute_reply": "2025-09-01T19:29:52.484354Z"
    },
    "papermill": {
     "duration": 0.015064,
     "end_time": "2025-09-01T19:29:52.486884",
     "exception": false,
     "start_time": "2025-09-01T19:29:52.471820",
     "status": "completed"
    },
    "tags": []
   },
   "outputs": [
    {
     "data": {
      "text/plain": [
       "(16598, 11)"
      ]
     },
     "execution_count": 4,
     "metadata": {},
     "output_type": "execute_result"
    }
   ],
   "source": [
    "dataset.shape\n"
   ]
  },
  {
   "cell_type": "markdown",
   "id": "2a46b2d5",
   "metadata": {
    "papermill": {
     "duration": 0.006799,
     "end_time": "2025-09-01T19:29:52.500982",
     "exception": false,
     "start_time": "2025-09-01T19:29:52.494183",
     "status": "completed"
    },
    "tags": []
   },
   "source": [
    "### 🕹️ Level 1: Meet the Characters  \n",
    "\n",
    "Now that we’ve unboxed our dataset, let’s get to know the **cast of characters**:  \n",
    "- What kinds of columns do we have? (numeric, object, etc.)  \n",
    "- How many missing values are there?  \n",
    "\n",
    "Your task:  \n",
    "- To get a quick overview of column types + null values.  \n",
    "- To double-check the data types.  \n",
    "\n",
    "This step is like reading the **character bios** before starting a game   \n"
   ]
  },
  {
   "cell_type": "code",
   "execution_count": 5,
   "id": "0238e345",
   "metadata": {
    "execution": {
     "iopub.execute_input": "2025-09-01T19:29:52.517226Z",
     "iopub.status.busy": "2025-09-01T19:29:52.516925Z",
     "iopub.status.idle": "2025-09-01T19:29:52.523690Z",
     "shell.execute_reply": "2025-09-01T19:29:52.522751Z"
    },
    "papermill": {
     "duration": 0.015901,
     "end_time": "2025-09-01T19:29:52.525285",
     "exception": false,
     "start_time": "2025-09-01T19:29:52.509384",
     "status": "completed"
    },
    "tags": []
   },
   "outputs": [
    {
     "data": {
      "text/plain": [
       "Rank              int64\n",
       "Name             object\n",
       "Platform         object\n",
       "Year            float64\n",
       "Genre            object\n",
       "Publisher        object\n",
       "NA_Sales        float64\n",
       "EU_Sales        float64\n",
       "JP_Sales        float64\n",
       "Other_Sales     float64\n",
       "Global_Sales    float64\n",
       "dtype: object"
      ]
     },
     "execution_count": 5,
     "metadata": {},
     "output_type": "execute_result"
    }
   ],
   "source": [
    "dataset.dtypes"
   ]
  },
  {
   "cell_type": "code",
   "execution_count": 6,
   "id": "f3e3baff",
   "metadata": {
    "execution": {
     "iopub.execute_input": "2025-09-01T19:29:52.540098Z",
     "iopub.status.busy": "2025-09-01T19:29:52.539798Z",
     "iopub.status.idle": "2025-09-01T19:29:52.565707Z",
     "shell.execute_reply": "2025-09-01T19:29:52.564580Z"
    },
    "papermill": {
     "duration": 0.035013,
     "end_time": "2025-09-01T19:29:52.567203",
     "exception": false,
     "start_time": "2025-09-01T19:29:52.532190",
     "status": "completed"
    },
    "tags": []
   },
   "outputs": [
    {
     "name": "stdout",
     "output_type": "stream",
     "text": [
      "<class 'pandas.core.frame.DataFrame'>\n",
      "RangeIndex: 16598 entries, 0 to 16597\n",
      "Data columns (total 11 columns):\n",
      " #   Column        Non-Null Count  Dtype  \n",
      "---  ------        --------------  -----  \n",
      " 0   Rank          16598 non-null  int64  \n",
      " 1   Name          16598 non-null  object \n",
      " 2   Platform      16598 non-null  object \n",
      " 3   Year          16327 non-null  float64\n",
      " 4   Genre         16598 non-null  object \n",
      " 5   Publisher     16540 non-null  object \n",
      " 6   NA_Sales      16598 non-null  float64\n",
      " 7   EU_Sales      16598 non-null  float64\n",
      " 8   JP_Sales      16598 non-null  float64\n",
      " 9   Other_Sales   16598 non-null  float64\n",
      " 10  Global_Sales  16598 non-null  float64\n",
      "dtypes: float64(6), int64(1), object(4)\n",
      "memory usage: 1.4+ MB\n"
     ]
    }
   ],
   "source": [
    "dataset.info()"
   ]
  },
  {
   "cell_type": "markdown",
   "id": "ce0a0900",
   "metadata": {
    "papermill": {
     "duration": 0.006792,
     "end_time": "2025-09-01T19:29:52.581127",
     "exception": false,
     "start_time": "2025-09-01T19:29:52.574335",
     "status": "completed"
    },
    "tags": []
   },
   "source": [
    "### 🎯 Level 2: Quick Stats Check (Describe the Data)  \n",
    "\n",
    "Every good gamer checks the **stats screen** before playing  \n",
    "Now, let’s do the same for our dataset:  \n",
    "\n",
    "Your task:  \n",
    "- To get summary statistics for numerical columns.  \n",
    "- Notice things like average sales, max values, and distribution hints.  \n",
    "\n",
    "This is like peeking at the **scoreboard** — who’s leading, what’s the high score?   \n"
   ]
  },
  {
   "cell_type": "code",
   "execution_count": 7,
   "id": "32d17d22",
   "metadata": {
    "execution": {
     "iopub.execute_input": "2025-09-01T19:29:52.597274Z",
     "iopub.status.busy": "2025-09-01T19:29:52.596936Z",
     "iopub.status.idle": "2025-09-01T19:29:52.724095Z",
     "shell.execute_reply": "2025-09-01T19:29:52.723077Z"
    },
    "papermill": {
     "duration": 0.137421,
     "end_time": "2025-09-01T19:29:52.725624",
     "exception": false,
     "start_time": "2025-09-01T19:29:52.588203",
     "status": "completed"
    },
    "tags": []
   },
   "outputs": [
    {
     "data": {
      "text/html": [
       "<div>\n",
       "<style scoped>\n",
       "    .dataframe tbody tr th:only-of-type {\n",
       "        vertical-align: middle;\n",
       "    }\n",
       "\n",
       "    .dataframe tbody tr th {\n",
       "        vertical-align: top;\n",
       "    }\n",
       "\n",
       "    .dataframe thead th {\n",
       "        text-align: right;\n",
       "    }\n",
       "</style>\n",
       "<table border=\"1\" class=\"dataframe\">\n",
       "  <thead>\n",
       "    <tr style=\"text-align: right;\">\n",
       "      <th></th>\n",
       "      <th>Rank</th>\n",
       "      <th>Year</th>\n",
       "      <th>NA_Sales</th>\n",
       "      <th>EU_Sales</th>\n",
       "      <th>JP_Sales</th>\n",
       "      <th>Other_Sales</th>\n",
       "      <th>Global_Sales</th>\n",
       "    </tr>\n",
       "  </thead>\n",
       "  <tbody>\n",
       "    <tr>\n",
       "      <th>count</th>\n",
       "      <td>16598.000000</td>\n",
       "      <td>16327.000000</td>\n",
       "      <td>16598.000000</td>\n",
       "      <td>16598.000000</td>\n",
       "      <td>16598.000000</td>\n",
       "      <td>16598.000000</td>\n",
       "      <td>16598.000000</td>\n",
       "    </tr>\n",
       "    <tr>\n",
       "      <th>mean</th>\n",
       "      <td>8300.605254</td>\n",
       "      <td>2006.406443</td>\n",
       "      <td>0.264667</td>\n",
       "      <td>0.146652</td>\n",
       "      <td>0.077782</td>\n",
       "      <td>0.048063</td>\n",
       "      <td>0.537441</td>\n",
       "    </tr>\n",
       "    <tr>\n",
       "      <th>std</th>\n",
       "      <td>4791.853933</td>\n",
       "      <td>5.828981</td>\n",
       "      <td>0.816683</td>\n",
       "      <td>0.505351</td>\n",
       "      <td>0.309291</td>\n",
       "      <td>0.188588</td>\n",
       "      <td>1.555028</td>\n",
       "    </tr>\n",
       "    <tr>\n",
       "      <th>min</th>\n",
       "      <td>1.000000</td>\n",
       "      <td>1980.000000</td>\n",
       "      <td>0.000000</td>\n",
       "      <td>0.000000</td>\n",
       "      <td>0.000000</td>\n",
       "      <td>0.000000</td>\n",
       "      <td>0.010000</td>\n",
       "    </tr>\n",
       "    <tr>\n",
       "      <th>25%</th>\n",
       "      <td>4151.250000</td>\n",
       "      <td>2003.000000</td>\n",
       "      <td>0.000000</td>\n",
       "      <td>0.000000</td>\n",
       "      <td>0.000000</td>\n",
       "      <td>0.000000</td>\n",
       "      <td>0.060000</td>\n",
       "    </tr>\n",
       "    <tr>\n",
       "      <th>50%</th>\n",
       "      <td>8300.500000</td>\n",
       "      <td>2007.000000</td>\n",
       "      <td>0.080000</td>\n",
       "      <td>0.020000</td>\n",
       "      <td>0.000000</td>\n",
       "      <td>0.010000</td>\n",
       "      <td>0.170000</td>\n",
       "    </tr>\n",
       "    <tr>\n",
       "      <th>75%</th>\n",
       "      <td>12449.750000</td>\n",
       "      <td>2010.000000</td>\n",
       "      <td>0.240000</td>\n",
       "      <td>0.110000</td>\n",
       "      <td>0.040000</td>\n",
       "      <td>0.040000</td>\n",
       "      <td>0.470000</td>\n",
       "    </tr>\n",
       "    <tr>\n",
       "      <th>max</th>\n",
       "      <td>16600.000000</td>\n",
       "      <td>2020.000000</td>\n",
       "      <td>41.490000</td>\n",
       "      <td>29.020000</td>\n",
       "      <td>10.220000</td>\n",
       "      <td>10.570000</td>\n",
       "      <td>82.740000</td>\n",
       "    </tr>\n",
       "  </tbody>\n",
       "</table>\n",
       "</div>"
      ],
      "text/plain": [
       "               Rank          Year      NA_Sales      EU_Sales      JP_Sales  \\\n",
       "count  16598.000000  16327.000000  16598.000000  16598.000000  16598.000000   \n",
       "mean    8300.605254   2006.406443      0.264667      0.146652      0.077782   \n",
       "std     4791.853933      5.828981      0.816683      0.505351      0.309291   \n",
       "min        1.000000   1980.000000      0.000000      0.000000      0.000000   \n",
       "25%     4151.250000   2003.000000      0.000000      0.000000      0.000000   \n",
       "50%     8300.500000   2007.000000      0.080000      0.020000      0.000000   \n",
       "75%    12449.750000   2010.000000      0.240000      0.110000      0.040000   \n",
       "max    16600.000000   2020.000000     41.490000     29.020000     10.220000   \n",
       "\n",
       "        Other_Sales  Global_Sales  \n",
       "count  16598.000000  16598.000000  \n",
       "mean       0.048063      0.537441  \n",
       "std        0.188588      1.555028  \n",
       "min        0.000000      0.010000  \n",
       "25%        0.000000      0.060000  \n",
       "50%        0.010000      0.170000  \n",
       "75%        0.040000      0.470000  \n",
       "max       10.570000     82.740000  "
      ]
     },
     "execution_count": 7,
     "metadata": {},
     "output_type": "execute_result"
    }
   ],
   "source": [
    "dataset.describe()"
   ]
  },
  {
   "cell_type": "markdown",
   "id": "37876050",
   "metadata": {
    "papermill": {
     "duration": 0.007174,
     "end_time": "2025-09-01T19:29:52.740549",
     "exception": false,
     "start_time": "2025-09-01T19:29:52.733375",
     "status": "completed"
    },
    "tags": []
   },
   "source": [
    "## 🧹 Level 3: Clean the Map (Missing Values)\n",
    "\n",
    "Time to sweep the floor before we play.\n",
    "\n",
    "**Your tasks:**\n",
    "- Check how many missing values are in each column.\n",
    "- For this dataset, handle missing values in **`Year`** and **`Publisher`** by removing those rows.\n",
    "- Re-check to confirm there are **no missing values left**.\n",
    "\n",
    "> Tip: Do a quick sanity check after cleaning (row count should drop a bit).\n"
   ]
  },
  {
   "cell_type": "code",
   "execution_count": 8,
   "id": "a5f5f5bd",
   "metadata": {
    "execution": {
     "iopub.execute_input": "2025-09-01T19:29:52.756523Z",
     "iopub.status.busy": "2025-09-01T19:29:52.756216Z",
     "iopub.status.idle": "2025-09-01T19:29:52.767627Z",
     "shell.execute_reply": "2025-09-01T19:29:52.766749Z"
    },
    "papermill": {
     "duration": 0.021197,
     "end_time": "2025-09-01T19:29:52.769195",
     "exception": false,
     "start_time": "2025-09-01T19:29:52.747998",
     "status": "completed"
    },
    "tags": []
   },
   "outputs": [
    {
     "data": {
      "text/plain": [
       "Rank              0\n",
       "Name              0\n",
       "Platform          0\n",
       "Year            271\n",
       "Genre             0\n",
       "Publisher        58\n",
       "NA_Sales          0\n",
       "EU_Sales          0\n",
       "JP_Sales          0\n",
       "Other_Sales       0\n",
       "Global_Sales      0\n",
       "dtype: int64"
      ]
     },
     "execution_count": 8,
     "metadata": {},
     "output_type": "execute_result"
    }
   ],
   "source": [
    "dataset.isnull().sum()"
   ]
  },
  {
   "cell_type": "code",
   "execution_count": 9,
   "id": "d293e725",
   "metadata": {
    "execution": {
     "iopub.execute_input": "2025-09-01T19:29:52.785168Z",
     "iopub.status.busy": "2025-09-01T19:29:52.784833Z",
     "iopub.status.idle": "2025-09-01T19:29:52.794841Z",
     "shell.execute_reply": "2025-09-01T19:29:52.794030Z"
    },
    "papermill": {
     "duration": 0.019736,
     "end_time": "2025-09-01T19:29:52.796473",
     "exception": false,
     "start_time": "2025-09-01T19:29:52.776737",
     "status": "completed"
    },
    "tags": []
   },
   "outputs": [],
   "source": [
    "dataset1=dataset.dropna(subset=[\"Year\",\"Publisher\"]).copy()"
   ]
  },
  {
   "cell_type": "code",
   "execution_count": 10,
   "id": "72c50af2",
   "metadata": {
    "execution": {
     "iopub.execute_input": "2025-09-01T19:29:52.812090Z",
     "iopub.status.busy": "2025-09-01T19:29:52.811811Z",
     "iopub.status.idle": "2025-09-01T19:29:52.824241Z",
     "shell.execute_reply": "2025-09-01T19:29:52.823464Z"
    },
    "papermill": {
     "duration": 0.022135,
     "end_time": "2025-09-01T19:29:52.825834",
     "exception": false,
     "start_time": "2025-09-01T19:29:52.803699",
     "status": "completed"
    },
    "tags": []
   },
   "outputs": [
    {
     "data": {
      "text/plain": [
       "Rank            0\n",
       "Name            0\n",
       "Platform        0\n",
       "Year            0\n",
       "Genre           0\n",
       "Publisher       0\n",
       "NA_Sales        0\n",
       "EU_Sales        0\n",
       "JP_Sales        0\n",
       "Other_Sales     0\n",
       "Global_Sales    0\n",
       "dtype: int64"
      ]
     },
     "execution_count": 10,
     "metadata": {},
     "output_type": "execute_result"
    }
   ],
   "source": [
    "dataset1.isnull().sum()"
   ]
  },
  {
   "cell_type": "markdown",
   "id": "17f958f5",
   "metadata": {
    "papermill": {
     "duration": 0.007007,
     "end_time": "2025-09-01T19:29:52.840326",
     "exception": false,
     "start_time": "2025-09-01T19:29:52.833319",
     "status": "completed"
    },
    "tags": []
   },
   "source": [
    "## 🔢 Level 4: Patch the `Year` Column (Data Types)\n",
    "\n",
    "`Year` often shows up as a float (e.g., `2008.0`) because of missing values earlier.\n",
    "\n",
    "**Your tasks:**\n",
    "- Convert **`Year`** to **integer**.\n",
    "- Re-run a quick `info` to confirm the dtype change.\n",
    "\n",
    "> If conversion fails, revisit Level 3 — some NaNs may still be lurking.\n"
   ]
  },
  {
   "cell_type": "code",
   "execution_count": 11,
   "id": "b7d3b329",
   "metadata": {
    "execution": {
     "iopub.execute_input": "2025-09-01T19:29:52.857045Z",
     "iopub.status.busy": "2025-09-01T19:29:52.856333Z",
     "iopub.status.idle": "2025-09-01T19:29:52.872375Z",
     "shell.execute_reply": "2025-09-01T19:29:52.871284Z"
    },
    "papermill": {
     "duration": 0.026197,
     "end_time": "2025-09-01T19:29:52.874035",
     "exception": false,
     "start_time": "2025-09-01T19:29:52.847838",
     "status": "completed"
    },
    "tags": []
   },
   "outputs": [
    {
     "name": "stdout",
     "output_type": "stream",
     "text": [
      "<class 'pandas.core.frame.DataFrame'>\n",
      "Index: 16291 entries, 0 to 16597\n",
      "Data columns (total 11 columns):\n",
      " #   Column        Non-Null Count  Dtype  \n",
      "---  ------        --------------  -----  \n",
      " 0   Rank          16291 non-null  int64  \n",
      " 1   Name          16291 non-null  object \n",
      " 2   Platform      16291 non-null  object \n",
      " 3   Year          16291 non-null  int64  \n",
      " 4   Genre         16291 non-null  object \n",
      " 5   Publisher     16291 non-null  object \n",
      " 6   NA_Sales      16291 non-null  float64\n",
      " 7   EU_Sales      16291 non-null  float64\n",
      " 8   JP_Sales      16291 non-null  float64\n",
      " 9   Other_Sales   16291 non-null  float64\n",
      " 10  Global_Sales  16291 non-null  float64\n",
      "dtypes: float64(5), int64(2), object(4)\n",
      "memory usage: 1.5+ MB\n"
     ]
    }
   ],
   "source": [
    "dataset1[\"Year\"]= dataset1[\"Year\"].astype(int)\n",
    "dataset1.info()"
   ]
  },
  {
   "cell_type": "markdown",
   "id": "e600fca8",
   "metadata": {
    "papermill": {
     "duration": 0.007155,
     "end_time": "2025-09-01T19:29:52.888879",
     "exception": false,
     "start_time": "2025-09-01T19:29:52.881724",
     "status": "completed"
    },
    "tags": []
   },
   "source": [
    "\n",
    "## 🎮 Level 5: Spotting the Legends  \n",
    "Now that we’ve explored platforms and genres, let’s look at the **all-time best sellers**.  \n",
    "Your task:  \n",
    "\n",
    "List the **Top 5 best-selling video games**.  \n",
    "We’ll display their **Name, Platform, Genre, and Global Sales**.  \n",
    "\n",
    "Think of this as the **Hall of Fame of Video Games** \n",
    "\n",
    "\n"
   ]
  },
  {
   "cell_type": "code",
   "execution_count": 12,
   "id": "4cf72c1d",
   "metadata": {
    "execution": {
     "iopub.execute_input": "2025-09-01T19:29:52.904921Z",
     "iopub.status.busy": "2025-09-01T19:29:52.904619Z",
     "iopub.status.idle": "2025-09-01T19:29:52.916375Z",
     "shell.execute_reply": "2025-09-01T19:29:52.915337Z"
    },
    "papermill": {
     "duration": 0.021741,
     "end_time": "2025-09-01T19:29:52.918049",
     "exception": false,
     "start_time": "2025-09-01T19:29:52.896308",
     "status": "completed"
    },
    "tags": []
   },
   "outputs": [
    {
     "name": "stdout",
     "output_type": "stream",
     "text": [
      "                       Name Platform         Genre  Global_Sales\n",
      "0                Wii Sports      Wii        Sports         82.74\n",
      "1         Super Mario Bros.      NES      Platform         40.24\n",
      "2            Mario Kart Wii      Wii        Racing         35.82\n",
      "3         Wii Sports Resort      Wii        Sports         33.00\n",
      "4  Pokemon Red/Pokemon Blue       GB  Role-Playing         31.37\n"
     ]
    }
   ],
   "source": [
    "Bestsellers=dataset.nlargest(5,\"Global_Sales\")[[\"Name\",\"Platform\",\"Genre\",\"Global_Sales\"]]\n",
    "print(Bestsellers)"
   ]
  },
  {
   "cell_type": "markdown",
   "id": "94513656",
   "metadata": {
    "papermill": {
     "duration": 0.007299,
     "end_time": "2025-09-01T19:29:52.933101",
     "exception": false,
     "start_time": "2025-09-01T19:29:52.925802",
     "status": "completed"
    },
    "tags": []
   },
   "source": [
    "\n",
    "## 🎮 Level 6: Which Console Ruled the Game?  \n",
    "Every console/platform has a legacy — but which one released the **most number of games**?  \n",
    "\n",
    "Count the number of games released on each platform.  \n",
    "Create a **bar chart** to visualize it.  \n",
    "Finally, answer: **Which platform has the highest number of releases?** \n",
    "\n",
    "  \n"
   ]
  },
  {
   "cell_type": "code",
   "execution_count": 13,
   "id": "35d41493",
   "metadata": {
    "execution": {
     "iopub.execute_input": "2025-09-01T19:29:52.949724Z",
     "iopub.status.busy": "2025-09-01T19:29:52.949322Z",
     "iopub.status.idle": "2025-09-01T19:29:52.957610Z",
     "shell.execute_reply": "2025-09-01T19:29:52.956675Z"
    },
    "papermill": {
     "duration": 0.018416,
     "end_time": "2025-09-01T19:29:52.959162",
     "exception": false,
     "start_time": "2025-09-01T19:29:52.940746",
     "status": "completed"
    },
    "tags": []
   },
   "outputs": [],
   "source": [
    "platform_count= dataset.groupby(\"Platform\")[\"Name\"].count()"
   ]
  },
  {
   "cell_type": "code",
   "execution_count": 14,
   "id": "84d5dfea",
   "metadata": {
    "execution": {
     "iopub.execute_input": "2025-09-01T19:29:52.975585Z",
     "iopub.status.busy": "2025-09-01T19:29:52.975283Z",
     "iopub.status.idle": "2025-09-01T19:29:53.495921Z",
     "shell.execute_reply": "2025-09-01T19:29:53.494427Z"
    },
    "papermill": {
     "duration": 0.531151,
     "end_time": "2025-09-01T19:29:53.498169",
     "exception": false,
     "start_time": "2025-09-01T19:29:52.967018",
     "status": "completed"
    },
    "tags": []
   },
   "outputs": [
    {
     "data": {
      "image/png": "[encoded data removed]",
      "text/plain": [
       "<Figure size 1200x1200 with 1 Axes>"
      ]
     },
     "metadata": {},
     "output_type": "display_data"
    }
   ],
   "source": [
    "plt.figure(figsize=(12,12))\n",
    "platform_count.sort_values(ascending=False).plot(kind=\"bar\",title=\"Number of Games released per Platform\")\n",
    "plt.xlabel(\"Platform\")\n",
    "plt.ylabel(\"Number of Games\")\n",
    "plt.show()\n",
    "\n"
   ]
  },
  {
   "cell_type": "code",
   "execution_count": 15,
   "id": "5267e0e9",
   "metadata": {
    "execution": {
     "iopub.execute_input": "2025-09-01T19:29:53.517978Z",
     "iopub.status.busy": "2025-09-01T19:29:53.517344Z",
     "iopub.status.idle": "2025-09-01T19:29:53.524878Z",
     "shell.execute_reply": "2025-09-01T19:29:53.523915Z"
    },
    "papermill": {
     "duration": 0.018433,
     "end_time": "2025-09-01T19:29:53.526201",
     "exception": false,
     "start_time": "2025-09-01T19:29:53.507768",
     "status": "completed"
    },
    "tags": []
   },
   "outputs": [
    {
     "data": {
      "text/plain": [
       "Platform\n",
       "DS    2163\n",
       "Name: Name, dtype: int64"
      ]
     },
     "execution_count": 15,
     "metadata": {},
     "output_type": "execute_result"
    }
   ],
   "source": [
    "platform_count.loc[[platform_count.idxmax()]]"
   ]
  },
  {
   "cell_type": "markdown",
   "id": "a729e91e",
   "metadata": {
    "papermill": {
     "duration": 0.008317,
     "end_time": "2025-09-01T19:29:53.543158",
     "exception": false,
     "start_time": "2025-09-01T19:29:53.534841",
     "status": "completed"
    },
    "tags": []
   },
   "source": [
    "Thus, DS has the highest number of releases."
   ]
  },
  {
   "cell_type": "markdown",
   "id": "fe74db90",
   "metadata": {
    "papermill": {
     "duration": 0.008233,
     "end_time": "2025-09-01T19:29:53.559963",
     "exception": false,
     "start_time": "2025-09-01T19:29:53.551730",
     "status": "completed"
    },
    "tags": []
   },
   "source": [
    "\n",
    "## 🏢 Level 7: The Big Bosses (Top Publishers)  \n",
    "Some publishers dominate the industry like final bosses \n",
    "\n",
    "Your task:  \n",
    "- Find the **Top 5 publishers** with the highest **total Global Sales**.  \n",
    "- Show their contribution using a **pie chart** \n",
    "\n",
    "This will help us see who really controlled the gaming world  \n"
   ]
  },
  {
   "cell_type": "code",
   "execution_count": 16,
   "id": "147dbc8b",
   "metadata": {
    "execution": {
     "iopub.execute_input": "2025-09-01T19:29:53.644128Z",
     "iopub.status.busy": "2025-09-01T19:29:53.643494Z",
     "iopub.status.idle": "2025-09-01T19:29:53.656500Z",
     "shell.execute_reply": "2025-09-01T19:29:53.655078Z"
    },
    "papermill": {
     "duration": 0.024261,
     "end_time": "2025-09-01T19:29:53.658315",
     "exception": false,
     "start_time": "2025-09-01T19:29:53.634054",
     "status": "completed"
    },
    "tags": []
   },
   "outputs": [
    {
     "name": "stdout",
     "output_type": "stream",
     "text": [
      "                       Publisher  Global_Sales\n",
      "359                     Nintendo       1784.43\n",
      "138              Electronic Arts       1093.39\n",
      "21                    Activision        721.41\n",
      "455  Sony Computer Entertainment        607.28\n",
      "524                      Ubisoft        473.54\n"
     ]
    }
   ],
   "source": [
    "top_publishers=dataset1.groupby(\"Publisher\", as_index=False)[\"Global_Sales\"].sum()\n",
    "top5=top_publishers.sort_values(by='Global_Sales', ascending=False).head(5)\n",
    "print(top5)"
   ]
  },
  {
   "cell_type": "code",
   "execution_count": 17,
   "id": "edc959cb",
   "metadata": {
    "execution": {
     "iopub.execute_input": "2025-09-01T19:29:53.677280Z",
     "iopub.status.busy": "2025-09-01T19:29:53.676668Z",
     "iopub.status.idle": "2025-09-01T19:29:53.818957Z",
     "shell.execute_reply": "2025-09-01T19:29:53.817980Z"
    },
    "papermill": {
     "duration": 0.153368,
     "end_time": "2025-09-01T19:29:53.820580",
     "exception": false,
     "start_time": "2025-09-01T19:29:53.667212",
     "status": "completed"
    },
    "tags": []
   },
   "outputs": [
    {
     "data": {
      "image/png": "[encoded data removed]",
      "text/plain": [
       "<Figure size 500x500 with 1 Axes>"
      ]
     },
     "metadata": {},
     "output_type": "display_data"
    }
   ],
   "source": [
    "plt.figure(figsize=(5,5))\n",
    "plt.pie(top5[\"Global_Sales\"],\n",
    "       labels=top5[\"Publisher\"])\n",
    "plt.title(\"Top 5 publishers with the highest total Global Sales\")\n",
    "plt.show()"
   ]
  },
  {
   "cell_type": "markdown",
   "id": "f3a072cb",
   "metadata": {
    "papermill": {
     "duration": 0.010284,
     "end_time": "2025-09-01T19:29:53.841195",
     "exception": false,
     "start_time": "2025-09-01T19:29:53.830911",
     "status": "completed"
    },
    "tags": []
   },
   "source": [
    "\n",
    "## 🌍 Level 8: Genre Champions in Europe  \n",
    "Different genres have their own kings in different regions.  \n",
    "Let’s focus on **Europe (EU Sales)** for now.  \n",
    "\n",
    "Your task:  \n",
    "- For **each Genre**, find the **Publisher** that has the highest **total EU Sales**.  \n",
    "- Print the results as a list (Genre → Top Publisher).  \n",
    "\n",
    "Think of this as awarding the **regional championship belts**  \n",
    "\n"
   ]
  },
  {
   "cell_type": "code",
   "execution_count": 18,
   "id": "d984afde",
   "metadata": {
    "execution": {
     "iopub.execute_input": "2025-09-01T19:29:53.863213Z",
     "iopub.status.busy": "2025-09-01T19:29:53.862875Z",
     "iopub.status.idle": "2025-09-01T19:29:53.876372Z",
     "shell.execute_reply": "2025-09-01T19:29:53.875350Z"
    },
    "papermill": {
     "duration": 0.026259,
     "end_time": "2025-09-01T19:29:53.877976",
     "exception": false,
     "start_time": "2025-09-01T19:29:53.851717",
     "status": "completed"
    },
    "tags": []
   },
   "outputs": [
    {
     "name": "stdout",
     "output_type": "stream",
     "text": [
      "         Genre                               Publisher  EU_Sales\n",
      "0       Action            20th Century Fox Video Games      0.09\n",
      "1       Action                                     3DO      1.67\n",
      "2       Action                               505 Games      1.21\n",
      "3       Action                                     5pb      0.00\n",
      "4       Action                             989 Studios      0.54\n",
      "...        ...                                     ...       ...\n",
      "1818  Strategy                           Vivendi Games      0.35\n",
      "1819  Strategy  Warner Bros. Interactive Entertainment      0.74\n",
      "1820  Strategy                        Westwood Studios      0.00\n",
      "1821  Strategy                  Zoo Digital Publishing      0.00\n",
      "1822  Strategy                             Zushi Games      0.00\n",
      "\n",
      "[1823 rows x 3 columns]\n"
     ]
    }
   ],
   "source": [
    "genre_sales=dataset1.groupby([\"Genre\", \"Publisher\"])[\"EU_Sales\"].sum().reset_index()\n",
    "print(genre_sales)\n",
    "\n"
   ]
  },
  {
   "cell_type": "code",
   "execution_count": 19,
   "id": "662ec085",
   "metadata": {
    "execution": {
     "iopub.execute_input": "2025-09-01T19:29:53.900132Z",
     "iopub.status.busy": "2025-09-01T19:29:53.899855Z",
     "iopub.status.idle": "2025-09-01T19:29:53.912348Z",
     "shell.execute_reply": "2025-09-01T19:29:53.911416Z"
    },
    "papermill": {
     "duration": 0.025275,
     "end_time": "2025-09-01T19:29:53.913979",
     "exception": false,
     "start_time": "2025-09-01T19:29:53.888704",
     "status": "completed"
    },
    "tags": []
   },
   "outputs": [
    {
     "name": "stdout",
     "output_type": "stream",
     "text": [
      "             Genre             Publisher  EU_Sales\n",
      "198         Action  Take-Two Interactive     70.44\n",
      "416      Adventure               Ubisoft      8.08\n",
      "511       Fighting                   THQ     20.58\n",
      "663           Misc              Nintendo     51.62\n",
      "804       Platform              Nintendo     84.90\n",
      "908         Puzzle              Nintendo     26.42\n",
      "987         Racing       Electronic Arts     51.20\n",
      "1192  Role-Playing              Nintendo     63.92\n",
      "1246       Shooter            Activision     96.86\n",
      "1430    Simulation       Electronic Arts     35.83\n",
      "1592        Sports       Electronic Arts    144.14\n",
      "1712      Strategy            Activision      7.94\n"
     ]
    }
   ],
   "source": [
    "top_publishers_by_genre = genre_sales.loc[genre_sales.groupby(\"Genre\")[\"EU_Sales\"].idxmax()]\n",
    "print(top_publishers_by_genre)\n"
   ]
  },
  {
   "cell_type": "code",
   "execution_count": 20,
   "id": "c6fd8b5c",
   "metadata": {
    "execution": {
     "iopub.execute_input": "2025-09-01T19:29:53.936153Z",
     "iopub.status.busy": "2025-09-01T19:29:53.935807Z",
     "iopub.status.idle": "2025-09-01T19:29:53.942521Z",
     "shell.execute_reply": "2025-09-01T19:29:53.941510Z"
    },
    "papermill": {
     "duration": 0.019308,
     "end_time": "2025-09-01T19:29:53.944033",
     "exception": false,
     "start_time": "2025-09-01T19:29:53.924725",
     "status": "completed"
    },
    "tags": []
   },
   "outputs": [
    {
     "name": "stdout",
     "output_type": "stream",
     "text": [
      "Action → Take-Two Interactive (EU Sales: 70.44)\n",
      "Adventure → Ubisoft (EU Sales: 8.08)\n",
      "Fighting → THQ (EU Sales: 20.58)\n",
      "Misc → Nintendo (EU Sales: 51.62)\n",
      "Platform → Nintendo (EU Sales: 84.90)\n",
      "Puzzle → Nintendo (EU Sales: 26.42)\n",
      "Racing → Electronic Arts (EU Sales: 51.20)\n",
      "Role-Playing → Nintendo (EU Sales: 63.92)\n",
      "Shooter → Activision (EU Sales: 96.86)\n",
      "Simulation → Electronic Arts (EU Sales: 35.83)\n",
      "Sports → Electronic Arts (EU Sales: 144.14)\n",
      "Strategy → Activision (EU Sales: 7.94)\n"
     ]
    }
   ],
   "source": [
    "for _, row in top_publishers_by_genre.iterrows():\n",
    "    print(f\"{row['Genre']} → {row['Publisher']} (EU Sales: {row['EU_Sales']:.2f})\")"
   ]
  },
  {
   "cell_type": "markdown",
   "id": "42cd7cec",
   "metadata": {
    "papermill": {
     "duration": 0.009752,
     "end_time": "2025-09-01T19:29:53.964048",
     "exception": false,
     "start_time": "2025-09-01T19:29:53.954296",
     "status": "completed"
    },
    "tags": []
   },
   "source": [
    "\n",
    "## 🎯 Level 9: Nintendo’s Golden Year  \n",
    "Nintendo is one of the biggest names in gaming 🎮  \n",
    "But… which year did Nintendo achieve its **highest total Global Sales**?  \n",
    "\n",
    "Your task:  \n",
    "- Filter the dataset for **Publisher = Nintendo**.  \n",
    "- Group sales by year.  \n",
    "- Find the year with the **highest global sales**.  \n",
    "\n",
    "This is like uncovering the **peak of Nintendo’s power**   \n",
    "\n"
   ]
  },
  {
   "cell_type": "code",
   "execution_count": 21,
   "id": "672a7e2f",
   "metadata": {
    "execution": {
     "iopub.execute_input": "2025-09-01T19:29:53.986436Z",
     "iopub.status.busy": "2025-09-01T19:29:53.985655Z",
     "iopub.status.idle": "2025-09-01T19:29:54.001505Z",
     "shell.execute_reply": "2025-09-01T19:29:54.000664Z"
    },
    "papermill": {
     "duration": 0.028941,
     "end_time": "2025-09-01T19:29:54.003125",
     "exception": false,
     "start_time": "2025-09-01T19:29:53.974184",
     "status": "completed"
    },
    "tags": []
   },
   "outputs": [
    {
     "data": {
      "text/html": [
       "<div>\n",
       "<style scoped>\n",
       "    .dataframe tbody tr th:only-of-type {\n",
       "        vertical-align: middle;\n",
       "    }\n",
       "\n",
       "    .dataframe tbody tr th {\n",
       "        vertical-align: top;\n",
       "    }\n",
       "\n",
       "    .dataframe thead th {\n",
       "        text-align: right;\n",
       "    }\n",
       "</style>\n",
       "<table border=\"1\" class=\"dataframe\">\n",
       "  <thead>\n",
       "    <tr style=\"text-align: right;\">\n",
       "      <th></th>\n",
       "      <th>Rank</th>\n",
       "      <th>Name</th>\n",
       "      <th>Platform</th>\n",
       "      <th>Year</th>\n",
       "      <th>Genre</th>\n",
       "      <th>Publisher</th>\n",
       "      <th>NA_Sales</th>\n",
       "      <th>EU_Sales</th>\n",
       "      <th>JP_Sales</th>\n",
       "      <th>Other_Sales</th>\n",
       "      <th>Global_Sales</th>\n",
       "    </tr>\n",
       "  </thead>\n",
       "  <tbody>\n",
       "    <tr>\n",
       "      <th>0</th>\n",
       "      <td>1</td>\n",
       "      <td>Wii Sports</td>\n",
       "      <td>Wii</td>\n",
       "      <td>2006</td>\n",
       "      <td>Sports</td>\n",
       "      <td>Nintendo</td>\n",
       "      <td>41.49</td>\n",
       "      <td>29.02</td>\n",
       "      <td>3.77</td>\n",
       "      <td>8.46</td>\n",
       "      <td>82.74</td>\n",
       "    </tr>\n",
       "    <tr>\n",
       "      <th>1</th>\n",
       "      <td>2</td>\n",
       "      <td>Super Mario Bros.</td>\n",
       "      <td>NES</td>\n",
       "      <td>1985</td>\n",
       "      <td>Platform</td>\n",
       "      <td>Nintendo</td>\n",
       "      <td>29.08</td>\n",
       "      <td>3.58</td>\n",
       "      <td>6.81</td>\n",
       "      <td>0.77</td>\n",
       "      <td>40.24</td>\n",
       "    </tr>\n",
       "    <tr>\n",
       "      <th>2</th>\n",
       "      <td>3</td>\n",
       "      <td>Mario Kart Wii</td>\n",
       "      <td>Wii</td>\n",
       "      <td>2008</td>\n",
       "      <td>Racing</td>\n",
       "      <td>Nintendo</td>\n",
       "      <td>15.85</td>\n",
       "      <td>12.88</td>\n",
       "      <td>3.79</td>\n",
       "      <td>3.31</td>\n",
       "      <td>35.82</td>\n",
       "    </tr>\n",
       "    <tr>\n",
       "      <th>3</th>\n",
       "      <td>4</td>\n",
       "      <td>Wii Sports Resort</td>\n",
       "      <td>Wii</td>\n",
       "      <td>2009</td>\n",
       "      <td>Sports</td>\n",
       "      <td>Nintendo</td>\n",
       "      <td>15.75</td>\n",
       "      <td>11.01</td>\n",
       "      <td>3.28</td>\n",
       "      <td>2.96</td>\n",
       "      <td>33.00</td>\n",
       "    </tr>\n",
       "    <tr>\n",
       "      <th>4</th>\n",
       "      <td>5</td>\n",
       "      <td>Pokemon Red/Pokemon Blue</td>\n",
       "      <td>GB</td>\n",
       "      <td>1996</td>\n",
       "      <td>Role-Playing</td>\n",
       "      <td>Nintendo</td>\n",
       "      <td>11.27</td>\n",
       "      <td>8.89</td>\n",
       "      <td>10.22</td>\n",
       "      <td>1.00</td>\n",
       "      <td>31.37</td>\n",
       "    </tr>\n",
       "  </tbody>\n",
       "</table>\n",
       "</div>"
      ],
      "text/plain": [
       "   Rank                      Name Platform  Year         Genre Publisher  \\\n",
       "0     1                Wii Sports      Wii  2006        Sports  Nintendo   \n",
       "1     2         Super Mario Bros.      NES  1985      Platform  Nintendo   \n",
       "2     3            Mario Kart Wii      Wii  2008        Racing  Nintendo   \n",
       "3     4         Wii Sports Resort      Wii  2009        Sports  Nintendo   \n",
       "4     5  Pokemon Red/Pokemon Blue       GB  1996  Role-Playing  Nintendo   \n",
       "\n",
       "   NA_Sales  EU_Sales  JP_Sales  Other_Sales  Global_Sales  \n",
       "0     41.49     29.02      3.77         8.46         82.74  \n",
       "1     29.08      3.58      6.81         0.77         40.24  \n",
       "2     15.85     12.88      3.79         3.31         35.82  \n",
       "3     15.75     11.01      3.28         2.96         33.00  \n",
       "4     11.27      8.89     10.22         1.00         31.37  "
      ]
     },
     "execution_count": 21,
     "metadata": {},
     "output_type": "execute_result"
    }
   ],
   "source": [
    "nintendo_frame=dataset1[dataset1[\"Publisher\"]==\"Nintendo\"]\n",
    "nintendo_frame.head(5)"
   ]
  },
  {
   "cell_type": "code",
   "execution_count": 22,
   "id": "a3489381",
   "metadata": {
    "execution": {
     "iopub.execute_input": "2025-09-01T19:29:54.025189Z",
     "iopub.status.busy": "2025-09-01T19:29:54.024866Z",
     "iopub.status.idle": "2025-09-01T19:29:54.039686Z",
     "shell.execute_reply": "2025-09-01T19:29:54.038676Z"
    },
    "papermill": {
     "duration": 0.028372,
     "end_time": "2025-09-01T19:29:54.041908",
     "exception": false,
     "start_time": "2025-09-01T19:29:54.013536",
     "status": "completed"
    },
    "tags": []
   },
   "outputs": [
    {
     "data": {
      "text/html": [
       "<div>\n",
       "<style scoped>\n",
       "    .dataframe tbody tr th:only-of-type {\n",
       "        vertical-align: middle;\n",
       "    }\n",
       "\n",
       "    .dataframe tbody tr th {\n",
       "        vertical-align: top;\n",
       "    }\n",
       "\n",
       "    .dataframe thead th {\n",
       "        text-align: right;\n",
       "    }\n",
       "</style>\n",
       "<table border=\"1\" class=\"dataframe\">\n",
       "  <thead>\n",
       "    <tr style=\"text-align: right;\">\n",
       "      <th></th>\n",
       "      <th>Year</th>\n",
       "      <th>Name</th>\n",
       "      <th>Global_Sales</th>\n",
       "    </tr>\n",
       "  </thead>\n",
       "  <tbody>\n",
       "    <tr>\n",
       "      <th>0</th>\n",
       "      <td>1983</td>\n",
       "      <td>Baseball</td>\n",
       "      <td>3.20</td>\n",
       "    </tr>\n",
       "    <tr>\n",
       "      <th>1</th>\n",
       "      <td>1983</td>\n",
       "      <td>Donkey Kong</td>\n",
       "      <td>1.13</td>\n",
       "    </tr>\n",
       "    <tr>\n",
       "      <th>2</th>\n",
       "      <td>1983</td>\n",
       "      <td>Donkey Kong Jr.</td>\n",
       "      <td>1.11</td>\n",
       "    </tr>\n",
       "    <tr>\n",
       "      <th>3</th>\n",
       "      <td>1983</td>\n",
       "      <td>Mahjong</td>\n",
       "      <td>2.14</td>\n",
       "    </tr>\n",
       "    <tr>\n",
       "      <th>4</th>\n",
       "      <td>1983</td>\n",
       "      <td>Mario Bros.</td>\n",
       "      <td>2.28</td>\n",
       "    </tr>\n",
       "    <tr>\n",
       "      <th>...</th>\n",
       "      <td>...</td>\n",
       "      <td>...</td>\n",
       "      <td>...</td>\n",
       "    </tr>\n",
       "    <tr>\n",
       "      <th>681</th>\n",
       "      <td>2016</td>\n",
       "      <td>Mario &amp; Sonic at the Rio 2016 Olympic Games</td>\n",
       "      <td>0.72</td>\n",
       "    </tr>\n",
       "    <tr>\n",
       "      <th>682</th>\n",
       "      <td>2016</td>\n",
       "      <td>Metroid Prime: Federation Force</td>\n",
       "      <td>0.03</td>\n",
       "    </tr>\n",
       "    <tr>\n",
       "      <th>683</th>\n",
       "      <td>2016</td>\n",
       "      <td>Star Fox: Zero</td>\n",
       "      <td>0.35</td>\n",
       "    </tr>\n",
       "    <tr>\n",
       "      <th>684</th>\n",
       "      <td>2016</td>\n",
       "      <td>Teddy Together</td>\n",
       "      <td>0.02</td>\n",
       "    </tr>\n",
       "    <tr>\n",
       "      <th>685</th>\n",
       "      <td>2016</td>\n",
       "      <td>The Legend of Zelda: Twilight Princess HD</td>\n",
       "      <td>0.94</td>\n",
       "    </tr>\n",
       "  </tbody>\n",
       "</table>\n",
       "<p>686 rows × 3 columns</p>\n",
       "</div>"
      ],
      "text/plain": [
       "     Year                                         Name  Global_Sales\n",
       "0    1983                                     Baseball          3.20\n",
       "1    1983                                  Donkey Kong          1.13\n",
       "2    1983                              Donkey Kong Jr.          1.11\n",
       "3    1983                                      Mahjong          2.14\n",
       "4    1983                                  Mario Bros.          2.28\n",
       "..    ...                                          ...           ...\n",
       "681  2016  Mario & Sonic at the Rio 2016 Olympic Games          0.72\n",
       "682  2016              Metroid Prime: Federation Force          0.03\n",
       "683  2016                               Star Fox: Zero          0.35\n",
       "684  2016                               Teddy Together          0.02\n",
       "685  2016    The Legend of Zelda: Twilight Princess HD          0.94\n",
       "\n",
       "[686 rows x 3 columns]"
      ]
     },
     "execution_count": 22,
     "metadata": {},
     "output_type": "execute_result"
    }
   ],
   "source": [
    "nintendo_sales_per_year=nintendo_frame.groupby([\"Year\",\"Name\"],as_index=False)[\"Global_Sales\"].sum()\n",
    "nintendo_sales_per_year"
   ]
  },
  {
   "cell_type": "code",
   "execution_count": 23,
   "id": "3369ec5e",
   "metadata": {
    "execution": {
     "iopub.execute_input": "2025-09-01T19:29:54.065470Z",
     "iopub.status.busy": "2025-09-01T19:29:54.065179Z",
     "iopub.status.idle": "2025-09-01T19:29:54.072490Z",
     "shell.execute_reply": "2025-09-01T19:29:54.071630Z"
    },
    "papermill": {
     "duration": 0.020859,
     "end_time": "2025-09-01T19:29:54.074213",
     "exception": false,
     "start_time": "2025-09-01T19:29:54.053354",
     "status": "completed"
    },
    "tags": []
   },
   "outputs": [
    {
     "data": {
      "text/plain": [
       "Year                  2006\n",
       "Name            Wii Sports\n",
       "Global_Sales         82.74\n",
       "Name: 413, dtype: object"
      ]
     },
     "execution_count": 23,
     "metadata": {},
     "output_type": "execute_result"
    }
   ],
   "source": [
    "nintendo_sales_per_year.loc[nintendo_sales_per_year[\"Global_Sales\"].idxmax()]"
   ]
  },
  {
   "cell_type": "markdown",
   "id": "4b3039a8",
   "metadata": {
    "papermill": {
     "duration": 0.011315,
     "end_time": "2025-09-01T19:29:54.097519",
     "exception": false,
     "start_time": "2025-09-01T19:29:54.086204",
     "status": "completed"
    },
    "tags": []
   },
   "source": [
    "\n",
    "## 🏟️ Final Boss Arena: The Data Playground  \n",
    "\n",
    "You’ve fought through all the levels ⚔️, now it’s time to explore on your own 🎉  \n",
    "\n",
    "Your final mission:  \n",
    "- Choose **any 2–3 plots** (your choice!) that show **interesting patterns** in the data.   \n",
    "\n",
    "💡 This is your **creative zone** → Think of it as building your own “story” from the dataset.  \n",
    "\n",
    "When you’re done, share your best plot with the team — let’s see who finds the coolest insight!  \n",
    "\n"
   ]
  },
  {
   "cell_type": "code",
   "execution_count": 24,
   "id": "b9dd43b4",
   "metadata": {
    "execution": {
     "iopub.execute_input": "2025-09-01T19:29:54.120860Z",
     "iopub.status.busy": "2025-09-01T19:29:54.120484Z",
     "iopub.status.idle": "2025-09-01T19:29:54.130209Z",
     "shell.execute_reply": "2025-09-01T19:29:54.129163Z"
    },
    "papermill": {
     "duration": 0.023075,
     "end_time": "2025-09-01T19:29:54.131841",
     "exception": false,
     "start_time": "2025-09-01T19:29:54.108766",
     "status": "completed"
    },
    "tags": []
   },
   "outputs": [
    {
     "name": "stdout",
     "output_type": "stream",
     "text": [
      "    Year  Global_Sales\n",
      "0   1980         11.38\n",
      "1   1981         35.77\n",
      "2   1982         28.86\n",
      "3   1983         16.79\n",
      "4   1984         50.36\n",
      "5   1985         53.94\n",
      "6   1986         37.07\n",
      "7   1987         21.74\n",
      "8   1988         47.22\n",
      "9   1989         73.45\n",
      "10  1990         49.39\n",
      "11  1991         32.23\n",
      "12  1992         76.16\n",
      "13  1993         45.98\n",
      "14  1994         79.17\n",
      "15  1995         88.11\n",
      "16  1996        199.15\n",
      "17  1997        200.98\n",
      "18  1998        256.47\n",
      "19  1999        251.27\n",
      "20  2000        201.56\n",
      "21  2001        331.47\n",
      "22  2002        395.52\n",
      "23  2003        357.85\n",
      "24  2004        414.01\n",
      "25  2005        458.51\n",
      "26  2006        521.04\n",
      "27  2007        609.92\n",
      "28  2008        678.90\n",
      "29  2009        667.30\n",
      "30  2010        600.29\n",
      "31  2011        515.80\n",
      "32  2012        363.49\n",
      "33  2013        368.11\n",
      "34  2014        337.03\n",
      "35  2015        264.44\n",
      "36  2016         70.90\n",
      "37  2017          0.05\n",
      "38  2020          0.29\n"
     ]
    }
   ],
   "source": [
    "yearly_sales = dataset1.groupby('Year')['Global_Sales'].sum().reset_index()\n",
    "print(yearly_sales)"
   ]
  },
  {
   "cell_type": "code",
   "execution_count": 25,
   "id": "fb41acab",
   "metadata": {
    "execution": {
     "iopub.execute_input": "2025-09-01T19:29:54.155127Z",
     "iopub.status.busy": "2025-09-01T19:29:54.154824Z",
     "iopub.status.idle": "2025-09-01T19:29:54.407049Z",
     "shell.execute_reply": "2025-09-01T19:29:54.405834Z"
    },
    "papermill": {
     "duration": 0.265836,
     "end_time": "2025-09-01T19:29:54.408561",
     "exception": false,
     "start_time": "2025-09-01T19:29:54.142725",
     "status": "completed"
    },
    "tags": []
   },
   "outputs": [
    {
     "data": {
      "image/png": "[encoded data removed]",
      "text/plain": [
       "<Figure size 1500x700 with 1 Axes>"
      ]
     },
     "metadata": {},
     "output_type": "display_data"
    }
   ],
   "source": [
    "plt.figure(figsize=(15, 7))\n",
    "plt.plot(yearly_sales['Year'], yearly_sales['Global_Sales'],marker='o', linestyle='-')\n",
    "plt.title('Global Video Game Sales Over Time (Post-2000)')\n",
    "plt.xlabel('Year')\n",
    "plt.ylabel('Global Sales (in millions)')\n",
    "plt.grid(True)\n",
    "plt.show()"
   ]
  },
  {
   "cell_type": "markdown",
   "id": "0b19c127",
   "metadata": {
    "papermill": {
     "duration": 0.012353,
     "end_time": "2025-09-01T19:29:54.434010",
     "exception": false,
     "start_time": "2025-09-01T19:29:54.421657",
     "status": "completed"
    },
    "tags": []
   },
   "source": [
    "Sales of video games steadily increased year after year, peaking around 2008–2009. After which there was a downfall which could be attributed to the rise of digital games (not mentioned in the dataset)"
   ]
  },
  {
   "cell_type": "code",
   "execution_count": 26,
   "id": "3ad020e5",
   "metadata": {
    "execution": {
     "iopub.execute_input": "2025-09-01T19:29:54.461493Z",
     "iopub.status.busy": "2025-09-01T19:29:54.461178Z",
     "iopub.status.idle": "2025-09-01T19:29:54.811619Z",
     "shell.execute_reply": "2025-09-01T19:29:54.810671Z"
    },
    "papermill": {
     "duration": 0.366612,
     "end_time": "2025-09-01T19:29:54.814519",
     "exception": false,
     "start_time": "2025-09-01T19:29:54.447907",
     "status": "completed"
    },
    "tags": []
   },
   "outputs": [
    {
     "data": {
      "image/png": "[encoded data removed]",
      "text/plain": [
       "<Figure size 1500x800 with 1 Axes>"
      ]
     },
     "metadata": {},
     "output_type": "display_data"
    }
   ],
   "source": [
    "regional_yearly_sales = dataset1.groupby('Year')[['NA_Sales', 'EU_Sales', 'JP_Sales']].sum().reset_index()\n",
    "plt.figure(figsize=(15, 8))\n",
    "plt.plot(regional_yearly_sales['Year'], regional_yearly_sales['NA_Sales'], marker='o', linestyle='-', label='North America')\n",
    "plt.plot(regional_yearly_sales['Year'], regional_yearly_sales['EU_Sales'], marker='o', linestyle='-', label='Europe')\n",
    "plt.plot(regional_yearly_sales['Year'], regional_yearly_sales['JP_Sales'], marker='o', linestyle='-', label='Japan')\n",
    "plt.title('Yearly Video Game Sales Trends by Region')\n",
    "plt.xlabel('Year')\n",
    "plt.ylabel('Sales (in millions)')\n",
    "plt.legend()\n",
    "plt.grid(True)\n",
    "plt.tight_layout()\n",
    "plt.show()"
   ]
  },
  {
   "cell_type": "markdown",
   "id": "9b4c571c",
   "metadata": {
    "papermill": {
     "duration": 0.015282,
     "end_time": "2025-09-01T19:29:54.845499",
     "exception": false,
     "start_time": "2025-09-01T19:29:54.830217",
     "status": "completed"
    },
    "tags": []
   },
   "source": [
    "The trends in North America and Europe are remarkably parallel, with Europe acting as a strong secondary market. Both regions experienced a sharp peak and a subsequent sharp decline. The trend in Japan also follows the general growth-and-decline pattern, its peak was less pronounced than in the other two regions. "
   ]
  }
 ],
 "metadata": {
  "kaggle": {
   "accelerator": "none",
   "dataSources": [
    {
     "datasetId": 284,
     "sourceId": 618,
     "sourceType": "datasetVersion"
    }
   ],
   "dockerImageVersionId": 31089,
   "isGpuEnabled": false,
   "isInternetEnabled": true,
   "language": "python",
   "sourceType": "notebook"
  },
  "kernelspec": {
   "display_name": "Python 3",
   "language": "python",
   "name": "python3"
  },
  "language_info": {
   "codemirror_mode": {
    "name": "ipython",
    "version": 3
   },
   "file_extension": ".py",
   "mimetype": "text/x-python",
   "name": "python",
   "nbconvert_exporter": "python",
   "pygments_lexer": "ipython3",
   "version": "3.11.13"
  },
  "papermill": {
   "default_parameters": {},
   "duration": 13.174719,
   "end_time": "2025-09-01T19:29:55.581119",
   "environment_variables": {},
   "exception": null,
   "input_path": "__notebook__.ipynb",
   "output_path": "__notebook__.ipynb",
   "parameters": {},
   "start_time": "2025-09-01T19:29:42.406400",
   "version": "2.6.0"
  }
 },
 "nbformat": 4,
 "nbformat_minor": 5
}
