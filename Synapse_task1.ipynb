{
  "nbformat": 4,
  "nbformat_minor": 0,
  "metadata": {
    "colab": {
      "provenance": [],
      "authorship_tag": "ABX9TyOr5886G6e0xOpRxvXrM87M",
      "include_colab_link": true
    },
    "kernelspec": {
      "name": "python3",
      "display_name": "Python 3"
    },
    "language_info": {
      "name": "python"
    }
  },
  "cells": [
    {
      "cell_type": "markdown",
      "metadata": {
        "id": "view-in-github",
        "colab_type": "text"
      },
      "source": [
        "<a href=\"https://colab.research.google.com/github/samikshapatil08/Synapse_ML_Samiksha_Patil/blob/main/Synapse_task1.ipynb\" target=\"_parent\"><img src=\"https://colab.research.google.com/assets/colab-badge.svg\" alt=\"Open In Colab\"/></a>"
      ]
    },
    {
      "cell_type": "markdown",
      "source": [
        "1.  Pikachu, I CHOOSE YOU!!\n",
        "You are preparing your pokemon squad for a battle. Each pokemon in your pokedex has one or\n",
        "more types. You have to form a team of all possible squads with ‘k’ pokemons and their\n",
        "combined types.\n",
        "Based on those formations you have to choose the strongest team. Strongest team is the one\n",
        "which as most number of types\n",
        "Pokedex = {\n",
        "‘Pikachu’: (‘Electric’),\n",
        "‘Charizard’: (‘Fire’, ‘Flying’)\n",
        "\"Lapras\": (\"Water\", \"Ice\"),\n",
        "\"Machamp\": (\"Fighting\",),\n",
        "\"Mewtwo\": (\"Psychic\", \"Fighting\"),\n",
        "\"Hoopa\": (\"Psychic\", \"Ghost\", \"Dark\"),\n",
        "\"Lugia\": (\"Psychic\", \"Flying\", \"Water\"),\n",
        "\"Squirtle\": (\"Water\",),\n",
        "\"Gengar\": (\"Ghost\", \"Poison\"),\n",
        "\"Onix\": (\"Rock\", \"Ground\")\n",
        "}\n",
        "Example: Name = “Mewtwo” and its types are Psychic and Fighting. Assuming k=3, one of the\n",
        "possible combinations is Pikachu, Charizard and Lapras with combined types of - electric, fire,\n",
        "flying, water and ice.\n",
        "\n"
      ],
      "metadata": {
        "id": "SRFBykEIlsyE"
      }
    },
    {
      "cell_type": "code",
      "execution_count": 15,
      "metadata": {
        "id": "I60oD9BvlvHF",
        "colab": {
          "base_uri": "https://localhost:8080/"
        },
        "outputId": "acc76d90-cddf-496d-933d-9f1961b65860"
      },
      "outputs": [
        {
          "output_type": "stream",
          "name": "stdout",
          "text": [
            "enter no. of pokemons:4\n",
            "Maximum number of types: 9\n",
            "Best teams:\n",
            "('Charizard', 'Lapras', 'Hoopa', 'Onix')  =  {'Ground', 'Fire', 'Water', 'Flying', 'Psychic', 'Rock', 'Ghost', 'Dark', 'Ice'}\n"
          ]
        }
      ],
      "source": [
        "Pokedex = {\n",
        "    'Pikachu': ('Electric',),\n",
        "    'Charizard': ('Fire', 'Flying'),\n",
        "    'Lapras': ('Water', 'Ice'),\n",
        "    'Machamp': ('Fighting',),\n",
        "    'Mewtwo': ('Psychic', 'Fighting'),\n",
        "    'Hoopa': ('Psychic', 'Ghost', 'Dark'),\n",
        "    'Lugia': ('Psychic', 'Flying', 'Water'),\n",
        "    'Squirtle': ('Water',),\n",
        "    'Gengar': ('Ghost', 'Poison'),\n",
        "    'Onix': ('Rock', 'Ground')\n",
        "}\n",
        "from itertools import combinations\n",
        "k=int(input(\"enter no. of pokemons:\"))\n",
        "best_teams = []\n",
        "max_types = 0\n",
        "team={}\n",
        "for team in combinations(Pokedex.keys(), k):\n",
        "    combined_types = set()\n",
        "    for pokemon in team:\n",
        "        combined_types.update(Pokedex[pokemon])\n",
        "\n",
        "    type_count = len(combined_types)\n",
        "\n",
        "    if type_count > max_types:\n",
        "        max_types = type_count\n",
        "        best_teams = [(team, combined_types)]\n",
        "    elif type_count == max_types:\n",
        "        best_teams.append((team, combined_types))\n",
        "\n",
        "print(\"Maximum number of types:\", max_types)\n",
        "print(\"Best teams:\")\n",
        "for team, types in best_teams:\n",
        "    print(team, \" = \", types)"
      ]
    },
    {
      "cell_type": "code",
      "source": [],
      "metadata": {
        "id": "b3qBvM1IoMs4"
      },
      "execution_count": null,
      "outputs": []
    },
    {
      "cell_type": "markdown",
      "source": [
        "2.You get a rare chance to work with Hermione Granger at Hogwarts.\n",
        "The night is dark, the corridors echo with whispers, and she urgently needs to light her way\n",
        "using the spell “LUMOS”.\n",
        "To prepare, Hermione reaches into her enchanted pouch that contains glowing runes (letters).\n",
        "She pulls out one rune at a time, each shining faintly in the dark.\n",
        "\n",
        "Your task is to determine the earliest step at which Hermione can first form the word “LUMOS”\n",
        "from the runes she has collected so far.\n",
        "The order of runes does not matter (Hermione is smart enough to rearrange them).\n",
        "Ignore case (both uppercase and lowercase letters work).\n",
        "If it is impossible to form “LUMOS” from the given sequence of runes, print -1."
      ],
      "metadata": {
        "id": "_i0-Z4ku4fSe"
      }
    },
    {
      "cell_type": "code",
      "source": [
        "import random\n",
        "\n",
        "chars = 'abcdefghijklmnopqrstuvwxyzABCDEFGHIJKLMNOPQRSTUVWXYZ'\n",
        "target = \"LUMOS\"\n",
        "\n",
        "runes = []\n",
        "count = 0\n",
        "\n",
        "while True:\n",
        "    count += 1\n",
        "    random_char = random.choice(chars)\n",
        "    runes.append(random_char)\n",
        "\n",
        "    collected = \"\".join(runes).upper()\n",
        "\n",
        "    can_form = True\n",
        "    for ch in target:\n",
        "        collected_count = collected.count(ch)\n",
        "        target_count = target.count(ch)\n",
        "        if collected_count < target_count:\n",
        "            can_form = False\n",
        "            break\n",
        "\n",
        "    if can_form:\n",
        "        print(\"Hermione can first form 'LUMOS' at step:\", count)\n",
        "        print(\"Runes so far:\", runes)\n",
        "        break\n",
        "\n",
        "    if count > 100:\n",
        "        print(-1)\n",
        "        break"
      ],
      "metadata": {
        "colab": {
          "base_uri": "https://localhost:8080/"
        },
        "id": "jO-fiU674kWa",
        "outputId": "cc0cb5bf-65c5-4a21-a6c9-c2e5b1716cda"
      },
      "execution_count": null,
      "outputs": [
        {
          "output_type": "stream",
          "name": "stdout",
          "text": [
            "Hermione can first form 'LUMOS' at step: 24\n",
            "Runes so far: ['D', 'N', 'g', 'x', 'B', 'f', 'w', 'F', 'b', 'P', 's', 'H', 'R', 'I', 'l', 'u', 'z', 'P', 'M', 'H', 'T', 'T', 'K', 'O']\n"
          ]
        }
      ]
    },
    {
      "cell_type": "markdown",
      "source": [
        "3.You are a fighter jet pilot and have been given a map of the region (n x n) with multiple small\n",
        "islands on it. The water is indicated by 0 and land is indicated by 1. Your chief commander, Sgt.\n",
        "Valdimir Tupin, declared a war with the people on these islands, and has assigned you to drop\n",
        "bombs on these islands. However, you are only left with 1 bomb, which has the blast region of\n",
        "(m x m), and you aim to cause maximum damage to your enemies.\n",
        "However, the bomb will only detonate if it lands on the ground; else the area of detonation goes\n",
        "down to 0. The bomb is dropped from the center of the blast region.\n",
        "Once you complete your mission, your job is to inform your Sgt. about the attack and provide\n",
        "him the coordinates of the islands which have been destroyed.\n",
        "Constraints:\n",
        "‘n’ ≥ ‘m’\n",
        "‘m’ is guaranteed to be an odd number\n",
        "Note:\n",
        "The bottom-left of the map signifies (0,0) coordinate\n",
        "You have to drop the bomb as quickly as possible, you can’t stay over enemy region for too long\n",
        "(else you going down)\n",
        "E.g:\n",
        "[\n",
        "[1,0,0,0,1],\n",
        "[1,0,1,1,1],\n",
        "[1,1,0,1,1],\n",
        "[1,0,1,1,0],\n",
        "[0,1,0,1,1]\n",
        "]\n",
        "For m=3, blast region is 3x3 matrix. The bomb would be dropped from the center of 3x3.\n",
        "At coordinates (3,2), dropping a bomb would have the most impact, damaging 7 islands.\n",
        "(These are coordinates and NOT INDEX)\n",
        "Consider conventional x and y axes for coordinates"
      ],
      "metadata": {
        "id": "hEBx8ocYlt0w"
      }
    },
    {
      "cell_type": "code",
      "source": [],
      "metadata": {
        "id": "rzTHTaaSBxWf"
      },
      "execution_count": null,
      "outputs": []
    }
  ]
}